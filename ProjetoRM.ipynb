{
 "cells": [
  {
   "cell_type": "code",
   "execution_count": null,
   "metadata": {},
   "outputs": [],
   "source": [
    "import random as rd\n",
    "import numpy as np\n",
    "class Pessoa:\n",
    "    def __init__(self):\n",
    "        self.atributos=[]\n",
    "        Rendimento_mensal=[0.044, 0.185, 0.359, 0.187, 0.116, 0.053, 0.055]\n",
    "        cv_Rendimento_mensal=[0.17, 0.088, 0.067, 0.093, 0.118, 0.173, 0.172]\n",
    "        for i in range(len(cv_Rendimento_mensal)):\n",
    "            Rendimento_mensal[i]=Rendimento_mensal[i]+rd.uniform(-cv_Rendimento_mensal[i]*Rendimento_mensal[i],cv_Rendimento_mensal[i]*Rendimento_mensal[i])\n",
    "        a=np.random.multinomial(1,Rendimento_mensal)\n",
    "        if a[0]==1:\n",
    "            self.atributos.append(\"Sem rendimento a 1/2 salário mínimo\")\n",
    "        elif a[1]==1:\n",
    "            self.atributos.append(\"Mais de 1/2 a 1 salários mínimos\")\n",
    "        elif a[2]==1:\n",
    "            self.atributos.append(\"Mais de 1 a 2 salários mínimos\")\n",
    "        elif a[3]==1:\n",
    "            self.atributos.append(\"Mais de 2 a 3 salários mínimos\")\n",
    "        elif a[4]==1:\n",
    "            self.atributos.append(\"Mais de 3 a 5 salários mínimos\")\n",
    "        elif a[5]==1:\n",
    "            self.atributos.append(\"Mais de 5 salários mínimos\")\n",
    "        else:\n",
    "            self.atributos.append(\"Sem declaração\")"
   ]
  }
 ],
 "metadata": {
  "kernelspec": {
   "display_name": "Python 3",
   "language": "python",
   "name": "python3"
  },
  "language_info": {
   "codemirror_mode": {
    "name": "ipython",
    "version": 3
   },
   "file_extension": ".py",
   "mimetype": "text/x-python",
   "name": "python",
   "nbconvert_exporter": "python",
   "pygments_lexer": "ipython3",
   "version": "3.7.0"
  }
 },
 "nbformat": 4,
 "nbformat_minor": 2
}
