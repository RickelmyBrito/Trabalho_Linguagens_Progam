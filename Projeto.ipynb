{
 "cells": [
  {
   "cell_type": "code",
   "execution_count": null,
   "metadata": {},
   "outputs": [],
   "source": [
    "from random import randrange\n",
    "class Pessoa:\n",
    "    def __init__(self,Rendimento_mensal,Rede_de_ensino,Dificuldade,Sexo,Regiao):\n",
    "        self.Rendimento_mensal = Rendimento_mensal\n",
    "        self.Rede_de_ensino = Rede_de_ensino\n",
    "        self.Dificuldade = Dificuldade\n",
    "        self.Sexo = Sexo\n",
    "        self.Regiao = Regiao"
   ]
  }
 ],
 "metadata": {
  "kernelspec": {
   "display_name": "Python 3",
   "language": "python",
   "name": "python3"
  },
  "language_info": {
   "codemirror_mode": {
    "name": "ipython",
    "version": 3
   },
   "file_extension": ".py",
   "mimetype": "text/x-python",
   "name": "python",
   "nbconvert_exporter": "python",
   "pygments_lexer": "ipython3",
   "version": "3.7.3"
  }
 },
 "nbformat": 4,
 "nbformat_minor": 2
}
