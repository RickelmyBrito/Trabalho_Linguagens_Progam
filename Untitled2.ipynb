{
  "nbformat": 4,
  "nbformat_minor": 0,
  "metadata": {
    "colab": {
      "name": "Untitled2.ipynb",
      "provenance": [],
      "collapsed_sections": [],
      "authorship_tag": "ABX9TyPxaQEzIBkvQTXZBWePbxC+",
      "include_colab_link": true
    },
    "kernelspec": {
      "name": "python3",
      "display_name": "Python 3"
    }
  },
  "cells": [
    {
      "cell_type": "markdown",
      "metadata": {
        "id": "view-in-github",
        "colab_type": "text"
      },
      "source": [
        "<a href=\"https://colab.research.google.com/github/RickelmyBrito/Trabalho_Linguagens_Progam/blob/master/Untitled2.ipynb\" target=\"_parent\"><img src=\"https://colab.research.google.com/assets/colab-badge.svg\" alt=\"Open In Colab\"/></a>"
      ]
    },
    {
      "cell_type": "code",
      "metadata": {
        "id": "bjbsv2Hi8jwv",
        "colab_type": "code",
        "colab": {}
      },
      "source": [
        ""
      ],
      "execution_count": 0,
      "outputs": []
    },
    {
      "cell_type": "markdown",
      "metadata": {
        "id": "sG0pZHYH8mdn",
        "colab_type": "text"
      },
      "source": [
        "\n",
        "\n",
        "FGV:18/05/2020\n",
        "---\n",
        "Aluno: Marcos Antônio Alves\n",
        "\n",
        "Grupo: \n",
        "Marcos Antônio Alves;\n",
        "Cristiane ;\n",
        "Pedro;\n",
        "Denner\n",
        "\n",
        "\n",
        "\n"
      ]
    },
    {
      "cell_type": "code",
      "metadata": {
        "id": "FRO5jjWz-HBq",
        "colab_type": "code",
        "colab": {}
      },
      "source": [
        "### estrutura de dados\n",
        "\n",
        "import math\n",
        "import numpy as np\n",
        "\n",
        "class No: ## nós da arvore\n",
        "    \n",
        "    def __init__(self, valor, filho1, filho2):\n",
        "        self.valor = valor\n",
        "        self.Child1 = filho1\n",
        "        self.Child2 = filho2\n",
        "        self.father = math.inf\n",
        "        \n",
        "class Heap(No):\n",
        "    \n",
        "    def __init__(self, lista):\n",
        "        \n",
        "        lista.sort() \n",
        "        self.lista = [0]+lista # acrescentamos um 0 no início para corrigir o índice\n",
        "        self.root = No(self.lista[1], math.inf, math.inf) # iniciamos o root e seus filho\n",
        "        self.omega = self.root ## nó a ser colocado como root no remove\n",
        "        self.nos = [[]] ##em cada sublista é um nível diferente\n",
        "        self.nos[0] = [self.root]\n",
        "\n",
        "        \n",
        "            \n",
        "    def cria_heap(self,root, i = 1, n = 1):\n",
        "\n",
        "        if 2*i+1 <= len(self.lista): # verificando índices\n",
        "            root.Child1 = No(self.lista[2*i], math.inf, math.inf)\n",
        "            root.Child1.father = root\n",
        "            \n",
        "            if len(self.nos) <= n:\n",
        "                self.nos = self.nos+[[]]\n",
        "             \n",
        "            self.nos[n] += [root.Child1]    \n",
        "            self.cria_heap(root.Child1,2*i,n+1)\n",
        "            if 2*i+2 <= len(self.lista): # verificando índices\n",
        "                root.Child2 = No(self.lista[2*i+1], math.inf, math.inf)\n",
        "                root.Child2.father = root\n",
        "                \n",
        "                if len(self.nos) <= n:\n",
        "                    self.nos = self.nos+[[]]\n",
        "                    \n",
        "                self.nos[n] += [root.Child2]\n",
        "                self.cria_heap(root.Child2, 2*i+1,n+1)\n",
        "                \n",
        "            else:\n",
        "                root.Child2 = No(math.inf, math.inf, math.inf) # apenas para completar os filhos do último nó\n",
        "                if self.nos[-1] :\n",
        "                    self.omega = self.nos[-1][-1]\n",
        "                else:\n",
        "                    self.omega = self.nos[-2][-1]\n",
        "    \n",
        "\n",
        "    def muda(self, root, i, c): ## faz parte da função de deletar\n",
        "        if c == 1:\n",
        "            s = 0\n",
        "            if root.Child1.Child1 == math.inf and root.Child1.Child2 == math.inf:\n",
        "                s = 1\n",
        "            elif root.Child1.Child1 == math.inf:\n",
        "                s = 2\n",
        "            elif root.Child1.Child2 == math.inf:\n",
        "                s = 3\n",
        "                \n",
        "            aux = root.Child1.valor\n",
        "            root.Child1.valor = root.valor\n",
        "            root.valor = aux\n",
        "            if s == 0:\n",
        "                if root.Child1.valor > root.Child1.Child1.valor and root.Child1.Child1.valor <= root.Child1.Child2.valor:\n",
        "                    self.muda(root.Child1, i+1,1)\n",
        "                elif root.Child1.valor > root.Child1.Child2.valor and root.Child1.Child1.valor > root.Child1.Child2.valor:\n",
        "                    self.muda(root.Child1, i+1,2)\n",
        "            elif s == 2:\n",
        "                aux = root.Child1.Child2.valor\n",
        "                root.Child1.Child2.valor = root.valor\n",
        "                root.Child1.valor = aux\n",
        "            elif s == 3:\n",
        "                aux = root.Child1.Child1.valor\n",
        "                root.Child1.Child1.valor = root.valor\n",
        "                root.Child1.valor = aux\n",
        "\n",
        "            \n",
        "        elif c == 2:\n",
        "            \n",
        "            s = 0\n",
        "            if root.Child2.Child1 == math.inf and root.Child2.Child2 == math.inf:\n",
        "                s = 1\n",
        "            elif root.Child2.Child2 == math.inf:\n",
        "                s = 2\n",
        "            elif root.Child2.Child1 == math.inf:\n",
        "                s = 3\n",
        "            aux = root.Child2.valor\n",
        "            root.Child2.valor = root.valor\n",
        "            root.valor = aux\n",
        "            if s == 0:\n",
        "                if root.Child2.valor > root.Child2.Child1.valor and root.Child2.Child1.valor <= root.Child2.Child2.valor:\n",
        "                    self.muda(root.Child2, i+1,1)\n",
        "                elif root.Child2.valor > root.Child2.Child2.valor and root.Child2.Child1.valor > root.Child2.Child2.valor:\n",
        "                    self.muda(root.Child2, i+1,2)\n",
        "            elif s == 2:\n",
        "                aux = root.Child2.Child2.valor\n",
        "                root.Child2.Child2.valor = root.valor\n",
        "                root.Child2.valor = aux\n",
        "            elif s == 3:\n",
        "                aux = root.Child2.Child1.valor\n",
        "                root.Child2.Child1.valor = root.valor\n",
        "                root.Child2.valor = aux\n",
        "    \n",
        "    def delete(self):\n",
        "        \n",
        "        if len(self.nos) == 1:\n",
        "            self.root.valor = math.inf\n",
        "        elif type(self.nos[-1]) == No:\n",
        "            self.root.valor = self.omega.valor  \n",
        "            self.omega.valor = math.inf\n",
        "            root = self.root\n",
        "            \n",
        "            \n",
        "        else:\n",
        "            self.root.valor = self.omega.valor\n",
        "            self.nos[-1].remove(self.omega)\n",
        "            self.omega.valor = math.inf\n",
        "            root = self.root\n",
        "            if self.nos[-1] == []:\n",
        "                self.nos.remove(self.nos[-1])\n",
        "\n",
        "            c = 0  \n",
        "            if root.valor > root.Child1.valor and root.Child1.valor <= root.Child2.valor:\n",
        "                c = 1\n",
        "            elif root.valor > root.Child2.valor and root.Child1.valor > root.Child2.valor:\n",
        "                c = 2\n",
        "            self.muda(root, 0, c)\n",
        "            self.omega = self.nos[-1][-1]\n",
        "        \n",
        "        \n",
        "    def sobe(self, new): ## verifica a desigualdade de valores entre nó pai e nó filho e faz as substituiçoes apropriadas\n",
        "        if new.valor < new.father.valor:\n",
        "            aux = new.valor\n",
        "            new.valor = new.father.valor\n",
        "            new.father.valor = aux\n",
        "            if new.father != self.root:\n",
        "                self.sobe(new.father)\n",
        "        \n",
        "    def insert(self, valor):\n",
        "        new = No(valor, math.inf, math.inf)\n",
        "        if len(self.nos) == 1:\n",
        "            self.root.Child1 = new\n",
        "            new.father = self.root\n",
        "            self.omega = new\n",
        "            self.nos = self.nos+[new]\n",
        "            self.sobe(new)\n",
        "        elif type(self.nos[-1]) == list:\n",
        "            if len(self.nos[-1]) == 2**(len(self.nos)-1):\n",
        "                new.father = self.nos[-1][0]\n",
        "                self.nos[-1][0].Child1 = new\n",
        "                self.nos = self.nos+[new]\n",
        "                self.sobe(new)\n",
        "                self.omega = self.nos[-1]\n",
        "            \n",
        "        \n",
        "            elif len(self.nos) == 2:\n",
        "                self.root.Child1 = new\n",
        "                new.father = self.root\n",
        "                sw =''\n",
        "                self.nos[-1].append(new)\n",
        "                self.sobe(new)\n",
        "                self.omega = self.nos[-1][-1]\n",
        "            elif len(self.nos) > 2:\n",
        "                new.father = self.nos[-2][math.ceil(len(self.nos[-1])/2)-1]\n",
        "                if self.nos[-2][math.ceil(len(self.nos[-1])/2)-1].Child1 == math.inf:\n",
        "                    self.nos[-2][math.ceil(len(self.nos[-1])/2)-1].Child = new\n",
        "                else:\n",
        "                    self.nos[-2][math.ceil(len(self.nos[-1])/2)-1].Child2 = new\n",
        "\n",
        "                self.nos[-1].append(new)\n",
        "                self.sobe(new)\n",
        "                self.omega = self.nos[-1][-1]\n",
        "                \n",
        "        elif type(self.nos[-1]) == No:\n",
        "            new.father = self.nos[-1]\n",
        "            self.nos[-1].Child1 = new\n",
        "            self.sobe(new)\n",
        "        \n",
        "        else:\n",
        "            new = self.root\n",
        "            self.omega = self.nos[-1][-1]\n",
        "\n",
        "            \n",
        "        \n",
        "        "
      ],
      "execution_count": 0,
      "outputs": []
    },
    {
      "cell_type": "code",
      "metadata": {
        "id": "CpUM6zwu-hJY",
        "colab_type": "code",
        "outputId": "2f535f39-86fc-452c-cce6-1cad9fa36942",
        "colab": {
          "base_uri": "https://localhost:8080/",
          "height": 34
        }
      },
      "source": [
        "lista = list(np.random.randint(0,100,18))\n",
        "lista.sort()\n",
        "lista"
      ],
      "execution_count": 9,
      "outputs": [
        {
          "output_type": "execute_result",
          "data": {
            "text/plain": [
              "[6, 6, 7, 7, 9, 10, 15, 39, 40, 42, 53, 63, 76, 77, 80, 83, 95, 95]"
            ]
          },
          "metadata": {
            "tags": []
          },
          "execution_count": 9
        }
      ]
    },
    {
      "cell_type": "code",
      "metadata": {
        "id": "wXAZIaDy-nCC",
        "colab_type": "code",
        "outputId": "ac0a66a6-3199-47a1-ba68-84d0ed4cb668",
        "colab": {
          "base_uri": "https://localhost:8080/",
          "height": 82
        }
      },
      "source": [
        "##testando para uma lista aleatória de valores\n",
        "\n",
        "h = Heap(lista)\n",
        "x = h.root\n",
        "h.cria_heap(x)\n",
        "print(\"mínimo:{} \".format(h.root.valor), \"último nó {} \\n\".format(h.omega.valor))\n",
        "h.insert(2)\n",
        "h.insert(223)\n",
        "h.insert(456)\n",
        "h.delete()\n",
        "h.delete()\n",
        "print(\"novo root:{} \".format(h.root.valor), \"último nó {} \\n\".format(h.omega.valor))\n"
      ],
      "execution_count": 0,
      "outputs": [
        {
          "output_type": "stream",
          "text": [
            "mínimo:1  último nó 98 \n",
            "\n",
            "novo root:2  último nó 44 \n",
            "\n"
          ],
          "name": "stdout"
        }
      ]
    },
    {
      "cell_type": "code",
      "metadata": {
        "id": "Qey1a7h7-sQz",
        "colab_type": "code",
        "colab": {}
      },
      "source": [
        "## função que retorna a MST\n",
        "\n",
        "\n",
        "import numpy as np\n",
        "import random as rd\n",
        "\n",
        "\n",
        "\n",
        "def prox(G, visited_vertices, neighbors, pesos, s,t, h, MST): ## localiza os vizinhos e atualiza a MST\n",
        "    \n",
        "    if len(visited_vertices) < t:\n",
        "        for i in G:\n",
        "            \n",
        "            if i[0][0] == s and i[0][1] not in visited_vertices:\n",
        "                h.insert(i[1])\n",
        "                pesos.append(i[1])\n",
        "                aux = i[0][1]\n",
        "                neighbors.append([aux,i[1],i[0][0]])\n",
        "\n",
        "            elif i[0][1] == s and i[0][0] not in visited_vertices:\n",
        "                h.insert(i[1])\n",
        "                pesos.append(i[1])\n",
        "                aux = i[0][0]\n",
        "                neighbors.append([aux,i[1],i[0][1]])\n",
        "                \n",
        "\n",
        "        r = h.root.valor\n",
        "        if len(h.nos)  == 1:\n",
        "            for k in G:\n",
        "                if k[0][0] not in visited_vertices:\n",
        "                    h.insert(G[1])\n",
        "                elif k[0][1] not in visited_vertices:\n",
        "                    h.insert(G[1])\n",
        "        h.delete()\n",
        "        r = min(pesos)\n",
        "        pesos.remove(min(pesos))\n",
        "        \n",
        "\n",
        "        for i in neighbors:\n",
        "            if i[1] == r:\n",
        "                if i[0] not in visited_vertices:\n",
        "                    MST.append(i[2]+i[0])\n",
        "                    visited_vertices.append(i[0])\n",
        "                    print(visited_vertices)\n",
        "                    \n",
        "                print(visited_vertices)\n",
        "                neighbors.remove(i)\n",
        "                return prox(G, visited_vertices, neighbors, pesos, i[0],t, h, MST)\n",
        "                \n",
        "                \n",
        "    else:\n",
        "        return \"  The MST is : {}\".format(MST)\n",
        "    \n",
        "    \n",
        "\n",
        "def prim(G,t):\n",
        "    pesos = []\n",
        "    v = G[0]\n",
        "    s = v[0][0]\n",
        "    visited_vertices = [s]\n",
        "    neighbors =  []\n",
        "    MST = []\n",
        "    \n",
        "    for i in G:\n",
        "        if i[0][0] == s and i[0][1] not in visited_vertices:\n",
        "            pesos.append(i[1])\n",
        "            aux = i[0][1]\n",
        "            neighbors.append([aux,i[1],i[0][0]])\n",
        "            \n",
        "        elif i[0][1] == s and i[0][0] not in visited_vertices:\n",
        "            pesos.append(i[1])\n",
        "            aux = i[0][0]\n",
        "            neighbors.append([aux,i[1],i[0][1]])\n",
        "            \n",
        "\n",
        "    h = Heap(pesos)\n",
        "    x = h.root\n",
        "    h.cria_heap(x)\n",
        "    r = h.root.valor\n",
        "    h.delete()\n",
        "    pesos.remove(r)                              \n",
        "                                  \n",
        "    for i in neighbors:\n",
        "        if i[1] == r:\n",
        "            MST.append(s+i[0])\n",
        "            visited_vertices.append(i[0])\n",
        "            neighbors.remove(i)\n",
        "            print(visited_vertices)\n",
        "            return prox(G, visited_vertices, neighbors, pesos, i[0],t, h, MST)\n",
        "            \n",
        "    \n",
        "            \n",
        "            \n",
        "        "
      ],
      "execution_count": 0,
      "outputs": []
    },
    {
      "cell_type": "code",
      "metadata": {
        "id": "NxRid8TE-zRD",
        "colab_type": "code",
        "outputId": "91e6546a-97a1-4f07-a91f-00aef474f49b",
        "colab": {
          "base_uri": "https://localhost:8080/",
          "height": 268
        }
      },
      "source": [
        "## exemplo dos slides\n",
        "\n",
        "G = [['ab',4],['ah',8],['hi',7],['ic',2],['cb',8],['cd',7],['de',9],['ef',10],['gf',2],['gh',1],['fc',4],['fd',14],['ig',6],['bh',11]]\n",
        "G"
      ],
      "execution_count": 16,
      "outputs": [
        {
          "output_type": "execute_result",
          "data": {
            "text/plain": [
              "[['ab', 4],\n",
              " ['ah', 8],\n",
              " ['hi', 7],\n",
              " ['ic', 2],\n",
              " ['cb', 8],\n",
              " ['cd', 7],\n",
              " ['de', 9],\n",
              " ['ef', 10],\n",
              " ['gf', 2],\n",
              " ['gh', 1],\n",
              " ['fc', 4],\n",
              " ['fd', 14],\n",
              " ['ig', 6],\n",
              " ['bh', 11]]"
            ]
          },
          "metadata": {
            "tags": []
          },
          "execution_count": 16
        }
      ]
    },
    {
      "cell_type": "code",
      "metadata": {
        "id": "eAyBzXPx-3yS",
        "colab_type": "code",
        "outputId": "50667e18-0d7f-4c93-b85d-b0c218dbc37c",
        "colab": {
          "base_uri": "https://localhost:8080/",
          "height": 358
        }
      },
      "source": [
        "## Exibindo a sequência de nós\n",
        "v = prim(G,9)\n",
        "v"
      ],
      "execution_count": 17,
      "outputs": [
        {
          "output_type": "stream",
          "text": [
            "['a', 'b']\n",
            "['a', 'b', 'h']\n",
            "['a', 'b', 'h']\n",
            "['a', 'b', 'h', 'g']\n",
            "['a', 'b', 'h', 'g']\n",
            "['a', 'b', 'h', 'g', 'f']\n",
            "['a', 'b', 'h', 'g', 'f']\n",
            "['a', 'b', 'h', 'g', 'f', 'c']\n",
            "['a', 'b', 'h', 'g', 'f', 'c']\n",
            "['a', 'b', 'h', 'g', 'f', 'c', 'i']\n",
            "['a', 'b', 'h', 'g', 'f', 'c', 'i']\n",
            "['a', 'b', 'h', 'g', 'f', 'c', 'i']\n",
            "['a', 'b', 'h', 'g', 'f', 'c', 'i']\n",
            "['a', 'b', 'h', 'g', 'f', 'c', 'i', 'd']\n",
            "['a', 'b', 'h', 'g', 'f', 'c', 'i', 'd']\n",
            "['a', 'b', 'h', 'g', 'f', 'c', 'i', 'd']\n",
            "['a', 'b', 'h', 'g', 'f', 'c', 'i', 'd', 'e']\n",
            "['a', 'b', 'h', 'g', 'f', 'c', 'i', 'd', 'e']\n"
          ],
          "name": "stdout"
        },
        {
          "output_type": "execute_result",
          "data": {
            "text/plain": [
              "\"  The MST is : ['ab', 'ah', 'hg', 'gf', 'fc', 'ci', 'cd', 'de']\""
            ]
          },
          "metadata": {
            "tags": []
          },
          "execution_count": 17
        }
      ]
    },
    {
      "cell_type": "code",
      "metadata": {
        "id": "ocix6iaQ-_bw",
        "colab_type": "code",
        "colab": {}
      },
      "source": [
        ""
      ],
      "execution_count": 0,
      "outputs": []
    }
  ]
}